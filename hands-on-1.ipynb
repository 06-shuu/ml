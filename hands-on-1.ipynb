{
 "cells": [
  {
   "cell_type": "markdown",
   "metadata": {},
   "source": [
    "<p style=\"text-align:center\">\n",
    "    <a href=\"https://skills.network/?utm_medium=Exinfluencer&utm_source=Exinfluencer&utm_content=000026UJ&utm_term=10006555&utm_id=NA-SkillsNetwork-Channel-SkillsNetworkCoursesIBMSkillsNetworkML0104ENSkillsNetwork3497-2023-01-01\">\n",
    "    <img src=\"https://cf-courses-data.s3.us.cloud-object-storage.appdomain.cloud/assets/logos/SN_web_lightmode.png\" width=\"200\" alt=\"Skills Network Logo\"  />\n",
    "    </a>\n",
    "</p>\n"
   ]
  },
  {
   "cell_type": "markdown",
   "metadata": {},
   "source": [
    "# **Machine Learning in Python**\n",
    "\n",
    "Estimated time needed: **30** minutes\n",
    "\n",
    "After completing this lab you will be able to:\n",
    "\n",
    " - Implement common supervised learning algorithms for regression and classification tasks\n",
    " - Implement dimensionality reduction\n"
   ]
  },
  {
   "cell_type": "markdown",
   "metadata": {},
   "source": [
    "## __Table of Contents__\n",
    "\n",
    "<ol>\n",
    "    <li>\n",
    "        <a href=\"#Setup\">Setup</a>\n",
    "        <ol>\n",
    "            <li><a href=\"#Importing-Required-Libraries\">Importing Required Libraries</a></li>\n",
    "        </ol>\n",
    "    </li>\n",
    "    <li><a href=\"#Training and Testing Data Splits\">Training and Testing Data Splits</a></li>\n",
    "    <li>\n",
    "        <a href=\"#Supervised-Learning\">Supervised Learning</a>\n",
    "        <ol>\n",
    "            <li><a href=\"#1.Regression-Models\">1. Regression Models</a></li>\n",
    "            <li><a href=\"#2.Classification-Models\">2. Classification Models</a></li>\n",
    "        </ol>\n",
    "    </li>\n",
    "    <li>\n",
    "        <a href=\"#Unsupervised-Learning\">Unsupervised Learning</a>\n",
    "        <ol>\n",
    "            <li><a href=\"#Dimensionality-Reduction-Using-Principal-Component-Analysis-(PCA)\">Dimensionality Reduction Using Principal Component Analysis (PCA)</a></li>\n",
    "        </ol>\n",
    "    </li>\n",
    "    <li>\n",
    "        <a href=\"#Exercises\">Exercises</a>\n",
    "        <ol>\n",
    "            <li><a href=\"#Exercise-1---Build-a-linear-regression-with-the-dataset-below-and-evaluate-the-model\">Exercise 1 - Build a linear regression with the dataset below and evaluate the model</a></li>\n",
    "            <li><a href=\"#Exercise-2---Build-a-logistic-regression-with-the-dataset-below-and-evaluate-the-model\">Build a logistic regression with the dataset below and evaluate the model</a></li>\n",
    "            <li><a href=\"#Exercise-3---Perform-PCA-on-the-data-below-to-plot-the-corresponding-Cumulative-Explained-Variance\">Exercise 3 - Perform PCA on the data below to plot the corresponding Cumulative Explained Variance</a></li>\n",
    "        </ol>\n",
    "    </li>\n",
    "    \n"
   ]
  },
  {
   "cell_type": "markdown",
   "metadata": {},
   "source": [
    "# Setup\n",
    "\n",
    "For this lab, we will be using the following libraries:\n",
    "\n",
    "*   [`pandas`](https://pandas.pydata.org/?utm_medium=Exinfluencer&utm_source=Exinfluencer&utm_content=000026UJ&utm_term=10006555&utm_id=NA-SkillsNetwork-Channel-SkillsNetworkCoursesIBMML0187ENSkillsNetwork31430127-2021-01-01) for managing the data.\n",
    "*   [`numpy`](https://numpy.org/?utm_medium=Exinfluencer&utm_source=Exinfluencer&utm_content=000026UJ&utm_term=10006555&utm_id=NA-SkillsNetwork-Channel-SkillsNetworkCoursesIBMML0187ENSkillsNetwork31430127-2021-01-01) for mathematical operations.\n",
    "*   [`sklearn`](https://scikit-learn.org/stable/?utm_medium=Exinfluencer&utm_source=Exinfluencer&utm_content=000026UJ&utm_term=10006555&utm_id=NA-SkillsNetwork-Channel-SkillsNetworkCoursesIBMML0187ENSkillsNetwork31430127-2021-01-01) for machine learning and machine-learning-pipeline related functions.\n",
    "*   [`matplotlib`](https://matplotlib.org/?utm_medium=Exinfluencer&utm_source=Exinfluencer&utm_content=000026UJ&utm_term=10006555&utm_id=NA-SkillsNetwork-Channel-SkillsNetworkCoursesIBMML0187ENSkillsNetwork31430127-2021-01-01) for additional plotting tools.\n",
    "*   [`plotly`](https://plotly.com/?utm_medium=Exinfluencer&utm_source=Exinfluencer&utm_content=000026UJ&utm_term=10006555&utm_id=NA-SkillsNetwork-Channel-SkillsNetworkCoursesIBMSkillsNetworkML0104ENSkillsNetwork3497-2023-01-01) for extracting the data.\n"
   ]
  },
  {
   "cell_type": "markdown",
   "metadata": {},
   "source": [
    "# Setup\n",
    "\n",
    "For this lab, we will be using the following libraries:\n",
    "\n",
    "*   [`pandas`](https://pandas.pydata.org/?utm_medium=Exinfluencer&utm_source=Exinfluencer&utm_content=000026UJ&utm_term=10006555&utm_id=NA-SkillsNetwork-Channel-SkillsNetworkCoursesIBMML0187ENSkillsNetwork31430127-2021-01-01) for managing the data.\n",
    "*   [`numpy`](https://numpy.org/?utm_medium=Exinfluencer&utm_source=Exinfluencer&utm_content=000026UJ&utm_term=10006555&utm_id=NA-SkillsNetwork-Channel-SkillsNetworkCoursesIBMML0187ENSkillsNetwork31430127-2021-01-01) for mathematical operations.\n",
    "*   [`sklearn`](https://scikit-learn.org/stable/?utm_medium=Exinfluencer&utm_source=Exinfluencer&utm_content=000026UJ&utm_term=10006555&utm_id=NA-SkillsNetwork-Channel-SkillsNetworkCoursesIBMML0187ENSkillsNetwork31430127-2021-01-01) for machine learning and machine-learning-pipeline related functions.\n",
    "*   [`matplotlib`](https://matplotlib.org/?utm_medium=Exinfluencer&utm_source=Exinfluencer&utm_content=000026UJ&utm_term=10006555&utm_id=NA-SkillsNetwork-Channel-SkillsNetworkCoursesIBMML0187ENSkillsNetwork31430127-2021-01-01) for additional plotting tools.\n",
    "*   [`plotly`](https://plotly.com/?utm_medium=Exinfluencer&utm_source=Exinfluencer&utm_content=000026UJ&utm_term=10006555&utm_id=NA-SkillsNetwork-Channel-SkillsNetworkCoursesIBMSkillsNetworkML0104ENSkillsNetwork3497-2023-01-01) for extracting the data.\n"
   ]
  },
  {
   "cell_type": "markdown",
   "metadata": {},
   "source": [
    "### Importing Required Libraries\n",
    "\n",
    "_We recommend you import all required libraries in one place (here):_\n"
   ]
  },
  {
   "cell_type": "code",
   "execution_count": 1,
   "metadata": {},
   "outputs": [],
   "source": [
    "import pandas as pd\n",
    "import numpy as np\n",
    "from sklearn import datasets\n",
    "from sklearn.model_selection import train_test_split\n",
    "from sklearn.linear_model import LinearRegression, LogisticRegression\n",
    "from sklearn.metrics import (\n",
    "    confusion_matrix\n",
    "    \n",
    ")\n",
    "from sklearn.decomposition import PCA\n",
    "import matplotlib.pyplot as plt\n",
    "import plotly.express as px"
   ]
  },
  {
   "cell_type": "markdown",
   "metadata": {},
   "source": [
    "# Training and Testing Data Splits\n",
    "<img src=\"https://cf-courses-data.s3.us.cloud-object-storage.appdomain.cloud/IBMSkillsNetwork-ML0104EN-SkillsNetwork/Screenshot%202023-06-17%20at%203.35.18%20AM.png\">\n",
    "In this example, we generate a dataset with 100 samples and 5 features using numpy.random.rand. We also generate corresponding target labels (y) using numpy.random.randint. We then use train_test_split from sklearn.model_selection to split the data into training and testing sets, with a test size of 20% (test_size=0.2). Finally, we print the shapes of the training and testing sets to verify the sizes of the splits.\n"
   ]
  },
  {
   "cell_type": "code",
   "execution_count": null,
   "metadata": {},
   "outputs": [],
   "source": [
    "# Set random seed for reproducibility\n",
    "np.random.seed(42)\n",
    "\n",
    "# Create a dataset with 100 samples and 5 features\n",
    "num_samples = 100\n",
    "num_features = 5\n",
    "X = np.random.rand(num_samples, num_features)\n",
    "y = np.random.randint(0, 2, size=num_samples)\n",
    "\n",
    "# Split the dataset into training and testing sets\n",
    "X_train, X_test, y_train, y_test = train_test_split(X, y, test_size=0.2, random_state=42)\n",
    "\n",
    "# Print the shapes of the training and testing sets\n",
    "print(\"Training set shape:\", X_train.shape, y_train.shape)\n",
    "print(\"Testing set shape:\", X_test.shape, y_test.shape)"
   ]
  },
  {
   "cell_type": "markdown",
   "metadata": {},
   "source": [
    "# Supervised Learning\n"
   ]
  },
  {
   "cell_type": "markdown",
   "metadata": {},
   "source": [
    "## 1. Classification Models\n"
   ]
  },
  {
   "cell_type": "markdown",
   "metadata": {},
   "source": [
    " Here's an explanation of the metrics used for the classification model we will build:\n",
    " #### 1. Confusion Matrix:\n",
    " The confusion matrix provides a summary of the model's performance by showing the counts of true positive, true negative, false positive, and false negative predictions.\n",
    " ||Actual Positive|Actual Negative|\n",
    "|-|-|-|\n",
    "**Predicted Positive** | True Positive   | False Negative  |\n",
    "**Predicted Negative** | False Positive  | True Negative   |\n",
    "\n",
    "#### 2. Accuracy:\n",
    "Accuracy measures the proportion of correct predictions out of the total predictions. It is calculated by dividing the sum of true positives and true negatives by the total number of samples.\n",
    "\n",
    "`Accuracy = (True Positives + True Negatives) / (True Positives + True Negatives + False Positives + False Negatives)`\n",
    "\n",
    "#### 3. Precision:\n",
    "Precision quantifies the model's ability to correctly predict positive samples. It is the ratio of true positives to the sum of true positives and false positives. Precision reflects the model's accuracy when it predicts positive.\n",
    "\n",
    "`Precision = True Positives / (True Positives + False Positives)`\n",
    "\n",
    "#### 4. Recall (Sensitivity or True Positive Rate):\n",
    "Recall, also known as sensitivity or true positive rate, measures the model's ability to correctly identify positive samples. It is the ratio of true positives to the sum of true positives and false negatives. Recall reflects the model's ability to capture all positive samples.\n",
    "\n",
    "`Recall = True Positives / (True Positives + False Negatives)`\n",
    "\n",
    "#### 5. Specificity (True Negative Rate):\n",
    "Specificity, also known as true negative rate, measures the model's ability to correctly identify negative samples. It is the ratio of true negatives to the sum of true negatives and false positives. Specificity reflects the model's accuracy when it predicts negative.\n",
    "\n",
    "`Specificity = True Negatives / (True Negatives + False Positives)`\n",
    "\n",
    "#### 6. F1 Score:\n",
    "The F1 score is the harmonic mean of precision and recall. It provides a single metric that balances both precision and recall. The F1 score is useful when there is an uneven class distribution or when both precision and recall are equally important.\n",
    "\n",
    "`F1 Score = 2 * (Precision * Recall) / (Precision + Recall)`\n"
   ]
  },
  {
   "cell_type": "code",
   "execution_count": null,
   "metadata": {},
   "outputs": [],
   "source": [
    "# Set random seed for reproducibility\n",
    "np.random.seed(42)\n",
    "\n",
    "# Generate random data\n",
    "X = np.random.rand(200, 4)  # Input features\n",
    "y = np.random.randint(0, 2, size=200)  # Binary target variable\n",
    "\n",
    "# Split the data into training and testing sets\n",
    "X_train, X_test, y_train, y_test = train_test_split(X, y, test_size=0.2, random_state=42)\n",
    "\n",
    "# Create logistic regression model\n",
    "model = LogisticRegression()\n",
    "\n",
    "# Fit the model on the training data\n",
    "model.fit(X_train, y_train)\n",
    "\n",
    "# Make predictions on the testing set\n",
    "y_pred = model.predict(X_test)\n",
    "\n",
    "# Evaluate the model's performance\n",
    "# Confusion Matrix\n",
    "cm = confusion_matrix(y_test, y_pred)\n",
    "\n",
    "# True Positives\n",
    "tp = cm[1, 1]\n",
    "# False Positives\n",
    "fp = cm[0, 1]\n",
    "# False Negatives\n",
    "fn = cm[1, 0]\n",
    "# True Negatives\n",
    "tn = cm[0, 0]\n",
    "\n",
    "# Accuracy\n",
    "accuracy = (tp + tn) / (tp + tn + fp + fn)\n",
    "# Precision\n",
    "precision = tp / (tp + fp)\n",
    "# Recall\n",
    "recall = tp / (tp + fn)\n",
    "# Specificity\n",
    "specificity = tn / (tn + fp)\n",
    "# F1 Score\n",
    "f1 = 2 * (precision * recall) / (precision + recall)\n",
    "\n",
    "\n",
    "# Print the evaluation metrics\n",
    "print(\"Confusion Matrix:\", cm)\n",
    "print('Accuracy:', accuracy)\n",
    "print('Precision:', precision)\n",
    "print('Recall:', recall)\n",
    "print(\"Specificity:\", specificity)\n",
    "print('F1 Score:', f1)"
   ]
  },
  {
   "cell_type": "markdown",
   "metadata": {},
   "source": [
    "## 2. Regression Models\n"
   ]
  },
  {
   "cell_type": "markdown",
   "metadata": {},
   "source": [
    "Here's an explanation of the metrics used for the regression model we will build:\n",
    "\n",
    "#### 1. Mean Squared Error (MSE):\n",
    "MSE measures the average squared difference between the predicted values and the actual values. It is calculated as follows:\n",
    "\n",
    "`MSE = (1/n) * Σ(y_actual - y_predicted)^2`\n",
    "\n",
    "where:\n",
    "\n",
    "- `MSE` represents the Mean Squared Error.\n",
    "- `n` is the total number of data points.\n",
    "- `Σ` denotes the summation symbol.\n",
    "- `y_actual` represents the actual values of the target variable.\n",
    "- `y_predicted` represents the predicted values from the linear regression model.\n",
    "In the code, `mean_squared_error(y_test, y_pred)` calculates the MSE for the dataset using the test set.\n",
    "\n",
    "#### 2. Root Mean Squared Error (RMSE):\n",
    "RMSE is the square root of the MSE, and it provides a measure of the average difference between the predicted values and the actual values in the original units. The formula for RMSE is:\n",
    "\n",
    "`RMSE = sqrt(MSE)`\n",
    "\n",
    "In the code, `mean_squared_error(y_test, y_pred)` calculates the RMSE for the dataset.\n",
    "\n",
    "#### 3. Mean Absolute Error (MAE):\n",
    "MAE measures the average absolute difference between the predicted values and the actual values. It is calculated as:\n",
    "\n",
    "`MAE = (1/n) * Σ|y_actual - y_predicted|`\n",
    "\n",
    "In the code, `mean_absolute_error(y_test, y_pred)` calculates the MAE for the dataset.\n",
    "\n",
    "#### 4. R-Squared (R^2):\n",
    "R-Squared, also known as the coefficient of determination, measures the proportion of the total variation in the target variable that can be explained by the linear regression model. It ranges from 0 to 1, with a higher value indicating a better fit. The formula for R-Squared is:\n",
    "\n",
    "`R^2 = 1 - (SSR / SST)`\n",
    "\n",
    "where:\n",
    "\n",
    "- `R^2` represents the R-Squared score.\n",
    "- `SSR` is the sum of squared residuals (the sum of squared differences between the predicted values and the actual values).\n",
    "- `SST` is the total sum of squares (the sum of squared differences between the actual values and their mean).\n",
    "In the code, `r2_score(y_test, y_pred)` calculates the R^2 score for the dataset.\n"
   ]
  },
  {
   "cell_type": "code",
   "execution_count": null,
   "metadata": {},
   "outputs": [],
   "source": [
    "import numpy as np\n",
    "from sklearn.model_selection import train_test_split\n",
    "from sklearn.linear_model import LinearRegression\n",
    "from sklearn.metrics import mean_squared_error, mean_absolute_error, r2_score\n",
    "\n",
    "# Set random seed for reproducibility\n",
    "np.random.seed(42)\n",
    "\n",
    "# Generate random data\n",
    "X = np.random.rand(200, 1)  # Input feature\n",
    "y = 2 + 3 * X + np.random.randn(200, 1)  # True underlying relationship + random noise\n",
    "\n",
    "# Split the data into training and testing sets\n",
    "X_train, X_test, y_train, y_test = train_test_split(X, y, test_size=0.2, random_state=42)\n",
    "\n",
    "# Create linear regression model\n",
    "model = LinearRegression()\n",
    "\n",
    "# Fit the model on the training data\n",
    "model.fit(X_train, y_train)\n",
    "\n",
    "# Make predictions on the testing set\n",
    "y_pred = model.predict(X_test)\n",
    "\n",
    "# Evaluate the model's performance\n",
    "mse = mean_squared_error(y_test, y_pred)\n",
    "rmse = mean_squared_error(y_test, y_pred)\n",
    "mae = mean_absolute_error(y_test, y_pred)\n",
    "r2 = r2_score(y_test, y_pred)\n",
    "\n",
    "# Print the evaluation metrics\n",
    "print('Mean Squared Error:', mse)\n",
    "print(f'Root Mean Squared Error: {rmse:.2f}')\n",
    "print('Mean Absolute Error:', mae)\n",
    "print('R-squared:', r2)"
   ]
  },
  {
   "cell_type": "markdown",
   "metadata": {},
   "source": [
    "---\n"
   ]
  },
  {
   "cell_type": "markdown",
   "metadata": {},
   "source": [
    "# Unsupervised Learning\n",
    "## Dimensionality Reduction Using Principal Component Analysis (PCA)\n"
   ]
  },
  {
   "cell_type": "markdown",
   "metadata": {},
   "source": [
    "PCA (Principal Component Analysis) is a dimensionality reduction technique. It is commonly used to reduce the number of features or variables in a dataset while retaining most of the information present in the original data. Performing PCA can sometimes lower accuracy because it involves reducing the dimensionality of the data by projecting it onto a lower-dimensional subspace. This reduction in dimensionality can result in some loss of information, which may affect the performance of certain algorithms that rely heavily on the original feature space.\n",
    "\n",
    "Despite potentially lowering accuracy, PCA is still widely used for the following reasons:\n",
    "\n",
    "1. Dimensionality reduction: Simplifies high-dimensional data by reducing the number of features, making analysis more manageable.\n",
    "2. Feature interpretation: Transforms features into uncorrelated principal components, revealing key contributors to variance and underlying data structure.\n",
    "3. Noise reduction: Filters out noisy or irrelevant features, enhancing model robustness by focusing on informative aspects.\n",
    "4. Computational efficiency: Reduces memory, storage, and computation requirements, making complex algorithms more efficient and scalable, especially for large datasets.\n",
    "5. Visualization: Enables effective visualization of high-dimensional data in lower-dimensional spaces, facilitating exploration and communication of insights.\n"
   ]
  },
  {
   "cell_type": "code",
   "execution_count": null,
   "metadata": {},
   "outputs": [],
   "source": [
    "# Step 1: Load the iris dataset from plotly.express\n",
    "df = px.data.iris()\n",
    "\n",
    "# Extract features and target variable\n",
    "X = df.drop('species', axis=1).values\n",
    "y = df['species'].values\n",
    "\n",
    "\n",
    "# Logistic regression on the original dataset\n",
    "X_train, X_test, y_train, y_test = train_test_split(X, y, test_size=0.3, random_state=42)\n",
    "print(\"Original shape: \", X_train.shape)\n",
    "lr_original = LogisticRegression()\n",
    "lr_original.fit(X_train, y_train)\n",
    "y_pred_original = lr_original.predict(X_test)\n",
    "cm = confusion_matrix(y_test, y_pred_original)\n",
    "tp = cm[1, 1]  # True Positives\n",
    "fp = cm[0, 1]  # False Positives\n",
    "fn = cm[1, 0]  # False Negatives\n",
    "tn = cm[0, 0]  # True Negatives\n",
    "accuracy_original = (tp + tn) / (tp + tn + fp + fn)\n",
    "print('Accuracy on original dataset:', accuracy_original)\n",
    "\n",
    "# Perform PCA\n",
    "covar_matrix = PCA(n_components=2) # The n_components parameter determines the number of dimensions the data will be reduced to.\n",
    "X_train_transformed = covar_matrix.fit_transform(X_train) # fits the PCA model to the training data X_train and simultaneously applies the transformation. \n",
    "print(\"Transformed shape: \", X_train_transformed.shape)\n",
    "X_test_transformed = covar_matrix.transform(X_test) # projects the testing data onto the same reduced feature space as the training data\n",
    "variance = covar_matrix.explained_variance_ratio_  # Calculate variance ratios\n",
    "var = np.cumsum(np.round(covar_matrix.explained_variance_ratio_, decimals=6) * 100)  # Cumulative sum of variance explained with [n] features\n",
    "\n",
    "# Plot explained variance\n",
    "plt.ylabel('Cumulative Explained Variance')\n",
    "plt.xlabel('Number of Components')\n",
    "plt.title('PCA Analysis')\n",
    "plt.plot(var)\n",
    "plt.show()\n",
    "\n",
    "# Logistic regression on the transformed dataset\n",
    "lr_transformed = LogisticRegression()\n",
    "lr_transformed.fit(X_train_transformed, y_train)\n",
    "y_pred_transformed = lr_transformed.predict(X_test_transformed)\n",
    "cm_transformed = confusion_matrix(y_test, y_pred_transformed)\n",
    "tp = cm_transformed[1, 1]  # True Positives\n",
    "fp = cm_transformed[0, 1]  # False Positives\n",
    "fn = cm_transformed[1, 0]  # False Negatives\n",
    "tn = cm_transformed[0, 0]  # True Negatives\n",
    "accuracy_transformed = (tp + tn) / (tp + tn + fp + fn)\n",
    "print('Accuracy on transformed dataset:', accuracy_transformed)"
   ]
  },
  {
   "cell_type": "markdown",
   "metadata": {},
   "source": [
    "<p style='color: #FF0000'>we used the fit_transform() method of PCA on the training set only instead of directly applying transform() to both the training and testing sets in the above code. This is because the fit_transform() method of PCA is used on the training set to learn the transformation based on its statistical properties. Applying transform() directly to the testing set would not utilize the information learned from the training set and could lead to inconsistent transformations, making it difficult to compare and interpret the results.</p>\n"
   ]
  },
  {
   "cell_type": "markdown",
   "metadata": {},
   "source": [
    "---\n"
   ]
  },
  {
   "cell_type": "markdown",
   "metadata": {},
   "source": [
    "# Exercises\n",
    "### Exercise 1 - Build a linear regression with the dataset below and evaluate the model\n",
    "Instruction:\n",
    "1. Split the dataset into a training set (70% of the data) and a test set (30% of the data).\n",
    "2. Implement linear regression\n",
    "3. Train the linear regression model on the training set\n",
    "4. Evaluate the trained model's performance on the test set by calculating the Mean Squared Error, Root Mean Squared Error, Mean Absolute Error, R-squared\n"
   ]
  },
  {
   "cell_type": "code",
   "execution_count": null,
   "metadata": {},
   "outputs": [],
   "source": [
    "# Load the california_housing dataset having a continuous target variable.\n",
    "data = datasets.fetch_california_housing()\n",
    "# Make a DataFrame\n",
    "df = pd.DataFrame(np.column_stack([data['data'], data['target']]), columns=data['feature_names'] + ['target'])\n",
    "df.head()"
   ]
  },
  {
   "cell_type": "code",
   "execution_count": null,
   "metadata": {},
   "outputs": [],
   "source": [
    "# TODO"
   ]
  },
  {
   "cell_type": "markdown",
   "metadata": {},
   "source": [
    "<details>\n",
    "    <summary>Click here for Solution</summary>\n",
    "\n",
    "```python\n",
    "\n",
    "# Split the data into training and testing sets\n",
    "X_train, X_test, y_train, y_test = train_test_split(df.iloc[:, :8], df['target'], test_size=0.3, random_state=0)\n",
    "\n",
    "# Create linear regression model\n",
    "model = LinearRegression()\n",
    "\n",
    "# Fit the model on the training data\n",
    "model.fit(X_train, y_train)\n",
    "\n",
    "# Make predictions on the testing set\n",
    "y_pred = model.predict(X_test)\n",
    "\n",
    "# Evaluate the model's performance\n",
    "mse = mean_squared_error(y_test, y_pred)\n",
    "rmse = mean_squared_error(y_test, y_pred)\n",
    "mae = mean_absolute_error(y_test, y_pred)\n",
    "r2 = r2_score(y_test, y_pred)\n",
    "\n",
    "# Print the evaluation metrics\n",
    "print('Mean Squared Error:', mse)\n",
    "print(f'Root Mean Squared Error: {rmse:.2f}')\n",
    "print('Mean Absolute Error:', mae)\n",
    "print('R-squared:', r2)\n",
    "```\n",
    "\n",
    "</details>\n"
   ]
  },
  {
   "cell_type": "markdown",
   "metadata": {},
   "source": [
    "### Exercise 2 - Build a logistic regression with the dataset below and evaluate the model\n",
    "Instruction:\n",
    "1. Split the dataset into a training set (70% of the data) and a test set (30% of the data).\n",
    "2. Implement logistic regression\n",
    "3. Train the logistic regression model on the training set\n",
    "4. Evaluate the trained model's performance on the test set by calculating the accuracy, precision, recall, and F1 score.\n"
   ]
  },
  {
   "cell_type": "code",
   "execution_count": null,
   "metadata": {},
   "outputs": [],
   "source": [
    "# Load the california_housing dataset having a continuous target variable.\n",
    "data = datasets.fetch_california_housing()\n",
    "# Make a DataFrame\n",
    "df = pd.DataFrame(np.column_stack([data['data'], data['target']]), columns=data['feature_names'] + ['target'])\n",
    "df['target'] = df['target'].apply(lambda x: 1 if x > df['target'].mean() else 0)\n",
    "df.head()"
   ]
  },
  {
   "cell_type": "code",
   "execution_count": null,
   "metadata": {},
   "outputs": [],
   "source": [
    "# TODO"
   ]
  },
  {
   "cell_type": "markdown",
   "metadata": {},
   "source": [
    "<details>\n",
    "    <summary>Click here for Solution</summary>\n",
    "\n",
    "```python\n",
    "# Split the data into training and testing data\n",
    "X_train, X_test, y_train, y_test = train_test_split(df.iloc[:, :8], df['target'], test_size=0.3, random_state=0)\n",
    "\n",
    "# Create logistic regression model\n",
    "model = LogisticRegression()\n",
    "\n",
    "# Fit the model on the training data\n",
    "model.fit(X_train, y_train)\n",
    "\n",
    "# Make predictions on the testing set\n",
    "y_pred = model.predict(X_test)\n",
    "\n",
    "# Confusion Matrix\n",
    "cm = confusion_matrix(y_test, y_pred)\n",
    "\n",
    "# True Positives\n",
    "tp = cm[1, 1]\n",
    "# False Positives\n",
    "fp = cm[0, 1]\n",
    "# False Negatives\n",
    "fn = cm[1, 0]\n",
    "# True Negatives\n",
    "tn = cm[0, 0]\n",
    "\n",
    "# Accuracy\n",
    "accuracy = (tp + tn) / (tp + tn + fp + fn)\n",
    "# Precision\n",
    "precision = tp / (tp + fp)\n",
    "# Recall\n",
    "recall = tp / (tp + fn)\n",
    "# Specificity\n",
    "specificity = tn / (tn + fp)\n",
    "# F1 Score\n",
    "f1 = 2 * (precision * recall) / (precision + recall)\n",
    "\n",
    "\n",
    "# Print the evaluation metrics\n",
    "print(\"Confusion Matrix:\", cm)\n",
    "print('Accuracy:', accuracy)\n",
    "print('Precision:', precision)\n",
    "print('Recall:', recall)\n",
    "print(\"Specificity:\", specificity)\n",
    "print('F1 Score:', f1)\n",
    "```\n",
    "\n",
    "</details>\n"
   ]
  },
  {
   "cell_type": "markdown",
   "metadata": {},
   "source": [
    "### Exercise 3 - Perform PCA on the data below to plot the corresponding Cumulative Explained Variance\n"
   ]
  },
  {
   "cell_type": "code",
   "execution_count": null,
   "metadata": {},
   "outputs": [],
   "source": [
    "np.random.seed(0)\n",
    "X_train = np.random.rand(100, 8)  # 100 samples with 8 features\n",
    "X_test = np.random.rand(50, 8)  # 50 samples with 8 features"
   ]
  },
  {
   "cell_type": "code",
   "execution_count": null,
   "metadata": {},
   "outputs": [],
   "source": [
    "# TODO"
   ]
  },
  {
   "cell_type": "markdown",
   "metadata": {},
   "source": [
    "<details>\n",
    "    <summary>Click here for Solution</summary>\n",
    "\n",
    "```python\n",
    "# Perform PCA\n",
    "covar_matrix = PCA(n_components=8)  # We have 8 features\n",
    "X_train_pca = covar_matrix.fit_transform(X_train)\n",
    "X_test_pca = covar_matrix.transform(X_test)\n",
    "variance = covar_matrix.explained_variance_ratio_  # Calculate variance ratios\n",
    "var = np.cumsum(np.round(covar_matrix.explained_variance_ratio_, decimals=6) * 100)  # Cumulative sum of variance explained with [n] features\n",
    "\n",
    "# Plot explained variance\n",
    "plt.ylabel('Cumulative Explained Variance')\n",
    "plt.xlabel('Number of Components')\n",
    "plt.title('PCA Analysis')\n",
    "plt.plot(var)\n",
    "plt.show()\n",
    "```\n",
    "\n",
    "</details>\n"
   ]
  },
  {
   "cell_type": "markdown",
   "metadata": {},
   "source": [
    "# Congratulations! You have completed the lab\n"
   ]
  },
  {
   "cell_type": "markdown",
   "metadata": {},
   "source": [
    "## Authors\n",
    "[Vicky Kuo](https://author.skills.network/instructors/vicky_kuo?utm_medium=Exinfluencer&utm_source=Exinfluencer&utm_content=000026UJ&utm_term=10006555&utm_id=NA-SkillsNetwork-Channel-SkillsNetworkCoursesIBMSkillsNetworkML0104ENSkillsNetwork3497-2023-01-01)\n"
   ]
  },
  {
   "cell_type": "markdown",
   "metadata": {},
   "source": [
    "## Change Log\n",
    "|Date (YYYY-MM-DD)|Version|Changed By|Change Description|\n",
    "|-|-|-|-|\n",
    "|2023-06-19|0.1|Vicky Kuo|Designd and Created the Lab|\n"
   ]
  },
  {
   "cell_type": "markdown",
   "metadata": {},
   "source": [
    "Copyright © 2023 IBM Corporation. All rights reserved.\n"
   ]
  }
 ],
 "metadata": {
  "kernelspec": {
   "display_name": "Python 3 (ipykernel)",
   "language": "python",
   "name": "python3"
  },
  "language_info": {
   "codemirror_mode": {
    "name": "ipython",
    "version": 3
   },
   "file_extension": ".py",
   "mimetype": "text/x-python",
   "name": "python",
   "nbconvert_exporter": "python",
   "pygments_lexer": "ipython3",
   "version": "3.12.4"
  }
 },
 "nbformat": 4,
 "nbformat_minor": 4
}
